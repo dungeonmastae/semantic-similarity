{
 "cells": [
  {
   "cell_type": "code",
   "execution_count": 1,
   "id": "9c9f98a1",
   "metadata": {},
   "outputs": [],
   "source": [
    "import pickle\n",
    "sentence =[\"what your petname\",\n",
    "           \"can you tell me your other name\",\n",
    "           \"hey thats an elephant\"]\n",
    "model_name = 'bert-base-nli-mean-tokens'"
   ]
  },
  {
   "cell_type": "code",
   "execution_count": 2,
   "id": "880bd5af",
   "metadata": {},
   "outputs": [],
   "source": [
    "from sentence_transformers import SentenceTransformer"
   ]
  },
  {
   "cell_type": "code",
   "execution_count": 5,
   "id": "859af786",
   "metadata": {},
   "outputs": [],
   "source": [
    "model=SentenceTransformer(model_name)"
   ]
  },
  {
   "cell_type": "code",
   "execution_count": 6,
   "id": "c2eabad2",
   "metadata": {},
   "outputs": [],
   "source": [
    "sentence_vecs=model.encode(sentence)"
   ]
  },
  {
   "cell_type": "code",
   "execution_count": 7,
   "id": "0cf861fe",
   "metadata": {},
   "outputs": [
    {
     "data": {
      "text/plain": [
       "(3, 768)"
      ]
     },
     "execution_count": 7,
     "metadata": {},
     "output_type": "execute_result"
    }
   ],
   "source": [
    "sentence_vecs.shape"
   ]
  },
  {
   "cell_type": "code",
   "execution_count": 8,
   "id": "10975656",
   "metadata": {},
   "outputs": [],
   "source": [
    "from sklearn.metrics.pairwise import cosine_similarity"
   ]
  },
  {
   "cell_type": "code",
   "execution_count": 9,
   "id": "49515155",
   "metadata": {},
   "outputs": [
    {
     "data": {
      "text/plain": [
       "array([[0.5950544]], dtype=float32)"
      ]
     },
     "execution_count": 9,
     "metadata": {},
     "output_type": "execute_result"
    }
   ],
   "source": [
    "cosine_similarity(\n",
    "    [sentence_vecs[0]],\n",
    "    [sentence_vecs[1]]\n",
    ")"
   ]
  },
  {
   "cell_type": "code",
   "execution_count": 10,
   "id": "f10712d0",
   "metadata": {},
   "outputs": [],
   "source": [
    "filename='pickle_model.pickle'\n",
    "pickle.dump(model,open(filename,'wb'))"
   ]
  },
  {
   "cell_type": "code",
   "execution_count": null,
   "id": "ce6fd9d2",
   "metadata": {},
   "outputs": [],
   "source": []
  }
 ],
 "metadata": {
  "kernelspec": {
   "display_name": "Python 3 (ipykernel)",
   "language": "python",
   "name": "python3"
  },
  "language_info": {
   "codemirror_mode": {
    "name": "ipython",
    "version": 3
   },
   "file_extension": ".py",
   "mimetype": "text/x-python",
   "name": "python",
   "nbconvert_exporter": "python",
   "pygments_lexer": "ipython3",
   "version": "3.10.3"
  }
 },
 "nbformat": 4,
 "nbformat_minor": 5
}
