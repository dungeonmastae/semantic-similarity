{
 "cells": [
  {
   "cell_type": "code",
   "execution_count": 17,
   "id": "e852fd8b",
   "metadata": {},
   "outputs": [],
   "source": [
    "import pickle\n",
    "filename='pickle_model.pickle'\n",
    "from sklearn.metrics.pairwise import cosine_similarity\n",
    "model = pickle.load(open(filename,'rb'))\n",
    "\n",
    "sentence=[\"he has many fruits\",\n",
    "          \"he is having dosens of mango\"]\n",
    "sentence_vecs=model.encode(sentence)\n"
   ]
  },
  {
   "cell_type": "code",
   "execution_count": 7,
   "id": "3fd255a8",
   "metadata": {},
   "outputs": [],
   "source": [
    "a=cosine_similarity(\n",
    "    [sentence_vecs[0]],\n",
    "    [sentence_vecs[1]]\n",
    ")"
   ]
  },
  {
   "cell_type": "code",
   "execution_count": 16,
   "id": "b531af44",
   "metadata": {},
   "outputs": [
    {
     "data": {
      "text/plain": [
       "1"
      ]
     },
     "execution_count": 16,
     "metadata": {},
     "output_type": "execute_result"
    }
   ],
   "source": [
    "int(a[0][0]+0.5)"
   ]
  },
  {
   "cell_type": "code",
   "execution_count": null,
   "id": "45b62ec3",
   "metadata": {},
   "outputs": [],
   "source": []
  }
 ],
 "metadata": {
  "kernelspec": {
   "display_name": "Python 3 (ipykernel)",
   "language": "python",
   "name": "python3"
  },
  "language_info": {
   "codemirror_mode": {
    "name": "ipython",
    "version": 3
   },
   "file_extension": ".py",
   "mimetype": "text/x-python",
   "name": "python",
   "nbconvert_exporter": "python",
   "pygments_lexer": "ipython3",
   "version": "3.10.3"
  }
 },
 "nbformat": 4,
 "nbformat_minor": 5
}
